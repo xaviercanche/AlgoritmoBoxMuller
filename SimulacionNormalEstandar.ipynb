{
 "cells": [
  {
   "cell_type": "markdown",
   "metadata": {},
   "source": [
    "# Simulación de Variables Aleatorias Normal Estandar\n",
    "\n",
    "Algoritmo de simulación de variables aleatorias. \n",
    "\n",
    "Autor: Mario Xavier Canche Uc, Agosto 2020. mario.canche@cimat.mx\n",
    "\n",
    "Basado en: https://books.google.com.mx/books?id=lET6IPBm2vMC&pg=PA71&lpg=PA71&dq=simular+una+normal&source=bl&ots=kKe4I009ig&sig=ACfU3U15tXCL-ArhYysCDXRx0e6yt712zQ&hl=es&sa=X&ved=2ahUKEwiZs97r-7PrAhUBXa0KHdBcAXwQ6AEwD3oECAkQAQ#v=onepage&q=simular%20una%20normal&f=false\n",
    "\n",
    "##    Algoritmo de Box - Müller"
   ]
  },
  {
   "cell_type": "code",
   "execution_count": 1,
   "metadata": {},
   "outputs": [],
   "source": [
    "# Cargamos las librerias\n",
    "import numpy as np\n",
    "import matplotlib.pyplot as plt"
   ]
  },
  {
   "cell_type": "code",
   "execution_count": 2,
   "metadata": {},
   "outputs": [],
   "source": [
    "def simulaNormalE(n = 1000):\n",
    "    \"\"\" Función para simular variables aleatorias\n",
    "        con el algoritmo de Box-Muller. \"\"\"\n",
    "    \n",
    "    # Obtenemos variables aleatorias distribuidas uniformementes en (0,1]\n",
    "    u1 = np.random.rand(n)\n",
    "    u2 = np.random.rand(n)\n",
    "    \n",
    "    # Aplicamos la transformacion\n",
    "    w1 = np.sqrt(-2 * np.log(u1))\n",
    "    w2 =  2 * np.pi * u2\n",
    "    z1 = w1 * np.cos(w2)\n",
    "    z2 = w1 * np.sin(w2)\n",
    "    \n",
    "    # Devolvemos los resultados\n",
    "    return(z1,z2,u1,u2)"
   ]
  },
  {
   "cell_type": "code",
   "execution_count": 3,
   "metadata": {},
   "outputs": [],
   "source": [
    "# Simulamos variables aleatorias con distribucion normal estandar\n",
    "n = 1000\n",
    "z1, z2, u1, u2 = simulaNormalE(n)"
   ]
  },
  {
   "cell_type": "code",
   "execution_count": 4,
   "metadata": {},
   "outputs": [
    {
     "data": {
      "image/png": "[encoded data removed]",
      "text/plain": [
       "<Figure size 648x504 with 4 Axes>"
      ]
     },
     "metadata": {
      "needs_background": "light"
     },
     "output_type": "display_data"
    }
   ],
   "source": [
    "# Visualizamos las variables\n",
    "fig, a = plt.subplots( 2, 2, figsize=(9, 7))\n",
    "fig.suptitle(\"Simulación Box-Muller\")\n",
    "a[0,0].hist(u1)\n",
    "a[0,0].set_title('u1')\n",
    "\n",
    "a[0,1].hist(u2)\n",
    "a[0,1].set_title('u2')\n",
    "\n",
    "a[1,0].hist(z1)\n",
    "a[1,0].set_title('z1')\n",
    "\n",
    "a[1,1].hist(z2)\n",
    "a[1,1].set_title('z2')\n",
    "\n",
    "plt.show()"
   ]
  },
  {
   "cell_type": "markdown",
   "metadata": {},
   "source": [
    "# Simulación con Scipy"
   ]
  },
  {
   "cell_type": "code",
   "execution_count": 5,
   "metadata": {},
   "outputs": [],
   "source": [
    "# Cargamos la libreria\n",
    "from scipy.stats import norm"
   ]
  },
  {
   "cell_type": "code",
   "execution_count": 6,
   "metadata": {},
   "outputs": [],
   "source": [
    "# Simulamos variables aleatorias con distribucion normal estandar\n",
    "n = 1000\n",
    "xnorm = norm.rvs(size=n)"
   ]
  },
  {
   "cell_type": "code",
   "execution_count": 7,
   "metadata": {},
   "outputs": [
    {
     "data": {
      "image/png": "[encoded data removed]",
      "text/plain": [
       "<Figure size 288x216 with 1 Axes>"
      ]
     },
     "metadata": {
      "needs_background": "light"
     },
     "output_type": "display_data"
    }
   ],
   "source": [
    "# Visualizamos las variables\n",
    "plt.figure(figsize=(4,3))\n",
    "plt.title(\"Simulación Scipy\")\n",
    "plt.hist(xnorm)\n",
    "plt.show()"
   ]
  },
  {
   "cell_type": "code",
   "execution_count": null,
   "metadata": {},
   "outputs": [],
   "source": []
  }
 ],
 "metadata": {
  "kernelspec": {
   "display_name": "Python 3",
   "language": "python",
   "name": "python3"
  },
  "language_info": {
   "codemirror_mode": {
    "name": "ipython",
    "version": 3
   },
   "file_extension": ".py",
   "mimetype": "text/x-python",
   "name": "python",
   "nbconvert_exporter": "python",
   "pygments_lexer": "ipython3",
   "version": "3.7.1"
  }
 },
 "nbformat": 4,
 "nbformat_minor": 2
}
